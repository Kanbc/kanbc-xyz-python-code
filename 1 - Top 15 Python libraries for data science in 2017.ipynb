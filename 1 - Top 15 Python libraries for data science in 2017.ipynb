{
 "cells": [
  {
   "cell_type": "code",
   "execution_count": 68,
   "metadata": {},
   "outputs": [
    {
     "name": "stdout",
     "output_type": "stream",
     "text": [
      "[[308  33 210]]\n"
     ]
    }
   ],
   "source": [
    "# 1. NumPy\n",
    "import numpy as np\n",
    "\n",
    "A = np.array([[13 , 9 , 12 , 15 ]])\n",
    "B = np.matrix([[5 , 3 , 9],[10 , 1 , -2],[4 , -5 , 8],[7 , 3 , 1]])\n",
    "\n",
    "Ans = A.dot(B)\n",
    "print(Ans)"
   ]
  },
  {
   "cell_type": "code",
   "execution_count": 79,
   "metadata": {
    "collapsed": true
   },
   "outputs": [],
   "source": [
    "# 2. SciPy\n",
    "from scipy.optimize import least_squares\n",
    "import scipy \n"
   ]
  },
  {
   "cell_type": "code",
   "execution_count": 80,
   "metadata": {},
   "outputs": [
    {
     "data": {
      "text/plain": [
       "74"
      ]
     },
     "execution_count": 80,
     "metadata": {},
     "output_type": "execute_result"
    }
   ],
   "source": [
    "23+24+27"
   ]
  }
 ],
 "metadata": {
  "kernelspec": {
   "display_name": "Python 3",
   "language": "python",
   "name": "python3"
  },
  "language_info": {
   "codemirror_mode": {
    "name": "ipython",
    "version": 3
   },
   "file_extension": ".py",
   "mimetype": "text/x-python",
   "name": "python",
   "nbconvert_exporter": "python",
   "pygments_lexer": "ipython3",
   "version": "3.6.1"
  }
 },
 "nbformat": 4,
 "nbformat_minor": 2
}
